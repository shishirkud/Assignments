{
  "nbformat": 4,
  "nbformat_minor": 0,
  "metadata": {
    "colab": {
      "name": "ShishirKudchadker_assignment3.ipynb",
      "provenance": []
    },
    "kernelspec": {
      "name": "python3",
      "display_name": "Python 3"
    }
  },
  "cells": [
    {
      "cell_type": "code",
      "metadata": {
        "id": "S_TnAV4KPeCF",
        "colab_type": "code",
        "colab": {
          "base_uri": "https://localhost:8080/",
          "height": 118
        },
        "outputId": "daa5d7a3-c698-498d-f0d1-1c62ab4add45"
      },
      "source": [
        "# Q1\n",
        "def divide(numerator,denominator):\n",
        "    try:\n",
        "      result=numerator/denominator\n",
        "    except ZeroDivisionError:\n",
        "      print(\"Division by Zero\")\n",
        "    else:\n",
        "      print(\"Result is %d \" % (result))\n",
        "    finally:\n",
        "      print(\"Finally Executed no matter what\")\n",
        "    \n",
        "divide(10,0)\n",
        "print(\"\\n\")\n",
        "divide(10,5)\n",
        "\n"
      ],
      "execution_count": 9,
      "outputs": [
        {
          "output_type": "stream",
          "text": [
            "Division by Zero\n",
            "Finally Executed no matter what\n",
            "\n",
            "\n",
            "Result is 2 \n",
            "Finally Executed no matter what\n"
          ],
          "name": "stdout"
        }
      ]
    },
    {
      "cell_type": "code",
      "metadata": {
        "id": "kWVcRbc3TO4k",
        "colab_type": "code",
        "outputId": "00fa00c2-9d9c-4012-de31-a5a1bf5a1711",
        "colab": {
          "base_uri": "https://localhost:8080/",
          "height": 286
        }
      },
      "source": [
        "# Q2\n",
        "import itertools\n",
        "\n",
        "subjects=[\"Americans\",\"Indians\"]\n",
        "verbs=[\"play\",\"watch\"]\n",
        "objects=[\"Baseball\",\"Cricket\"]\n",
        "\n",
        "sentence_parts=[subjects,verbs,objects]\n",
        "sentences=[\"{} {} {}\".format(*i) for i in itertools.product(*sentence_parts)]\n",
        "\n",
        "for sentence in sentences:\n",
        "  print(sentence+\"\\n\")"
      ],
      "execution_count": 0,
      "outputs": [
        {
          "output_type": "stream",
          "text": [
            "Americans play Baseball\n",
            "\n",
            "Americans play Cricket\n",
            "\n",
            "Americans watch Baseball\n",
            "\n",
            "Americans watch Cricket\n",
            "\n",
            "Indians play Baseball\n",
            "\n",
            "Indians play Cricket\n",
            "\n",
            "Indians watch Baseball\n",
            "\n",
            "Indians watch Cricket\n",
            "\n"
          ],
          "name": "stdout"
        }
      ]
    },
    {
      "cell_type": "markdown",
      "metadata": {
        "id": "imwy06l9PbjT",
        "colab_type": "text"
      },
      "source": [
        ""
      ]
    },
    {
      "cell_type": "code",
      "metadata": {
        "id": "d548iFLOPXUt",
        "colab_type": "code",
        "colab": {
          "base_uri": "https://localhost:8080/",
          "height": 101
        },
        "outputId": "9f78bd93-352e-4af5-d3ad-db37fec34dd4"
      },
      "source": [
        "# Q3\n",
        "import numpy as np\n",
        "\n",
        "def vander_matrix(vector,N):\n",
        "  convertmatrix=np.column_stack([vector**(N-1-i) for i in range(N)])\n",
        "  return convertmatrix\n",
        "\n",
        "vector=np.array([1,2,3,4,5])\n",
        "N=3\n",
        "vander_matrix(vector,N)  "
      ],
      "execution_count": 11,
      "outputs": [
        {
          "output_type": "execute_result",
          "data": {
            "text/plain": [
              "array([[ 1,  1,  1],\n",
              "       [ 4,  2,  1],\n",
              "       [ 9,  3,  1],\n",
              "       [16,  4,  1],\n",
              "       [25,  5,  1]])"
            ]
          },
          "metadata": {
            "tags": []
          },
          "execution_count": 11
        }
      ]
    }
  ]
}