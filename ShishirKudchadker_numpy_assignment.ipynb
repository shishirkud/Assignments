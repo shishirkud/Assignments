{
  "nbformat": 4,
  "nbformat_minor": 0,
  "metadata": {
    "colab": {
      "name": "shishir_Kudchadker_numpy_assignment",
      "provenance": []
    },
    "kernelspec": {
      "name": "python3",
      "display_name": "Python 3"
    }
  },
  "cells": [
    {
      "cell_type": "code",
      "metadata": {
        "id": "NaP7u7radhkM",
        "colab_type": "code",
        "colab": {}
      },
      "source": [
        "import numpy as np"
      ],
      "execution_count": 0,
      "outputs": []
    },
    {
      "cell_type": "code",
      "metadata": {
        "id": "nBZDmhg5eS-l",
        "colab_type": "code",
        "colab": {}
      },
      "source": [
        "#Q1\n",
        "def vander_matrix(vector,N):\n",
        "  convertmatrix=np.column_stack([vector**(N-1-i) for i in range(N)])\n",
        "  return convertmatrix"
      ],
      "execution_count": 0,
      "outputs": []
    },
    {
      "cell_type": "code",
      "metadata": {
        "id": "4-X3mm6Jes6Q",
        "colab_type": "code",
        "colab": {
          "base_uri": "https://localhost:8080/",
          "height": 101
        },
        "outputId": "6650cfa5-8385-44be-858b-2b58524e6c54"
      },
      "source": [
        "vector=np.array([1,2,3,4,5])\n",
        "N=3\n",
        "vander_matrix(vector,N)"
      ],
      "execution_count": 11,
      "outputs": [
        {
          "output_type": "execute_result",
          "data": {
            "text/plain": [
              "array([[ 1,  1,  1],\n",
              "       [ 4,  2,  1],\n",
              "       [ 9,  3,  1],\n",
              "       [16,  4,  1],\n",
              "       [25,  5,  1]])"
            ]
          },
          "metadata": {
            "tags": []
          },
          "execution_count": 11
        }
      ]
    },
    {
      "cell_type": "code",
      "metadata": {
        "id": "0FV43kSxiPsM",
        "colab_type": "code",
        "colab": {}
      },
      "source": [
        "# Q2\n",
        "def moving_average(data,window):\n",
        "  #N=len(data)\n",
        "  N=13\n",
        "  weights=np.ones(N)/N\n",
        "  return(np.convolve(data,weights,mode='valid'))"
      ],
      "execution_count": 0,
      "outputs": []
    },
    {
      "cell_type": "code",
      "metadata": {
        "id": "nkOnSzrHkB1H",
        "colab_type": "code",
        "colab": {
          "base_uri": "https://localhost:8080/",
          "height": 34
        },
        "outputId": "aa32f307-91a8-4277-8d1c-bf8f73d9db00"
      },
      "source": [
        "data=[3, 5, 7, 2, 8, 10, 11, 65, 72, 81, 99, 100, 150]\n",
        "window=3\n",
        "moving_average(data,3)"
      ],
      "execution_count": 27,
      "outputs": [
        {
          "output_type": "execute_result",
          "data": {
            "text/plain": [
              "array([47.15384615])"
            ]
          },
          "metadata": {
            "tags": []
          },
          "execution_count": 27
        }
      ]
    }
  ]
}