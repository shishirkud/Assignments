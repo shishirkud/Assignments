{
 "cells": [
  {
   "cell_type": "code",
   "execution_count": 28,
   "metadata": {},
   "outputs": [
    {
     "name": "stdout",
     "output_type": "stream",
     "text": [
      "Hello iNeuron ! Jupyter Setup Completed !!!!!\n"
     ]
    }
   ],
   "source": [
    "## Assignment1\n",
    "\n",
    "#Task 1 Question 2\n",
    "welcome_msg=\"Hello iNeuron ! Jupyter Setup Completed !!!!!\"\n",
    "print(welcome_msg)"
   ]
  },
  {
   "cell_type": "code",
   "execution_count": 4,
   "metadata": {},
   "outputs": [
    {
     "name": "stdout",
     "output_type": "stream",
     "text": [
      "Numbers between 2000 and 3200 which are divisible by 7 but not multiples of 5 are \n",
      "\n",
      "2002,2009,2016,2023,2037,2044,2051,2058,2072,2079,2086,2093,2107,2114,2121,2128,2142,2149,2156,2163,2177,2184,2191,2198,2212,2219,2226,2233,2247,2254,2261,2268,2282,2289,2296,2303,2317,2324,2331,2338,2352,2359,2366,2373,2387,2394,2401,2408,2422,2429,2436,2443,2457,2464,2471,2478,2492,2499,2506,2513,2527,2534,2541,2548,2562,2569,2576,2583,2597,2604,2611,2618,2632,2639,2646,2653,2667,2674,2681,2688,2702,2709,2716,2723,2737,2744,2751,2758,2772,2779,2786,2793,2807,2814,2821,2828,2842,2849,2856,2863,2877,2884,2891,2898,2912,2919,2926,2933,2947,2954,2961,2968,2982,2989,2996,3003,3017,3024,3031,3038,3052,3059,3066,3073,3087,3094,3101,3108,3122,3129,3136,3143,3157,3164,3171,3178,3192,3199\n"
     ]
    }
   ],
   "source": [
    "#Task 1 Question 2\n",
    "nums=[]\n",
    "\n",
    "for i in range(2000, 3200):\n",
    "    if(i%7==0 and i%5!=0):\n",
    "        nums.append(str(i))\n",
    "        \n",
    "print(\"Numbers between 2000 and 3200 which are divisible by 7 but not multiples of 5 are \\n\")        \n",
    "print(','.join(nums))       "
   ]
  },
  {
   "cell_type": "code",
   "execution_count": 11,
   "metadata": {},
   "outputs": [
    {
     "name": "stdout",
     "output_type": "stream",
     "text": [
      "Enter First Name : Shishir\n",
      "Enter Last Name : Kudchadker\n",
      "Kudchadker Shishir\n"
     ]
    }
   ],
   "source": [
    "#Task 1 Question 3\n",
    "\n",
    "first_name=input(\"Enter First Name : \")\n",
    "last_name=input(\"Enter Last Name : \")\n",
    "\n",
    "print(last_name+\" \"+first_name)"
   ]
  },
  {
   "cell_type": "code",
   "execution_count": 15,
   "metadata": {},
   "outputs": [
    {
     "name": "stdout",
     "output_type": "stream",
     "text": [
      "Volume of a Sphere with Diameter 12cm is : 905.14 \n"
     ]
    }
   ],
   "source": [
    "#Task 1 Question 4\n",
    "\n",
    "diameter=12\n",
    "radius=diameter/2\n",
    "pi=22/7\n",
    "Volume=4/3*pi*radius**3\n",
    "\n",
    "print(\"Volume of a Sphere with Diameter 12cm is : %.2f \" % (Volume))"
   ]
  },
  {
   "cell_type": "code",
   "execution_count": 32,
   "metadata": {},
   "outputs": [
    {
     "name": "stdout",
     "output_type": "stream",
     "text": [
      "Enter comma separated numbers 1,2,3,4,5\n",
      "<class 'str'>\n",
      "[1, 2, 3, 4, 5]\n",
      "<class 'list'>\n"
     ]
    }
   ],
   "source": [
    "# Task 2 Question 1\n",
    "\n",
    "numbers=str(input(\"Enter comma separated numbers \"))\n",
    "print(type(numbers))\n",
    "\n",
    "numtolist=numbers.split(',')\n",
    "num_int_list=[]\n",
    "\n",
    "for i in range(0,len(numtolist)):\n",
    "    num_int_list.append(int(numtolist[i]))\n",
    "    \n",
    "print(num_int_list)\n",
    "print(type(num_int_list))\n",
    "\n"
   ]
  },
  {
   "cell_type": "code",
   "execution_count": 20,
   "metadata": {},
   "outputs": [
    {
     "name": "stdout",
     "output_type": "stream",
     "text": [
      "*\n",
      "**\n",
      "***\n",
      "****\n",
      "*****\n",
      "****\n",
      "***\n",
      "**\n",
      "*\n"
     ]
    }
   ],
   "source": [
    "#Task 2 Question 2\n",
    "maxstars=5\n",
    "star_list_inc=[]\n",
    "for i in range(1,maxstars+1):\n",
    "    star_list_inc.append(\"*\"*i)\n",
    "print(\"\\n\".join(star_list_inc))\n",
    "\n",
    "star_list_dec=[]\n",
    "for j in range(maxstars-1,0,-1):\n",
    "    star_list_dec.append(\"*\"*j)\n",
    "print(\"\\n\".join(star_list_dec))\n"
   ]
  },
  {
   "cell_type": "code",
   "execution_count": 24,
   "metadata": {},
   "outputs": [
    {
     "name": "stdout",
     "output_type": "stream",
     "text": [
      "Enter Word to Reverse: AcadGild\n",
      "Input AcadGild\n",
      "Output dliGdacA\n"
     ]
    }
   ],
   "source": [
    "#Task 2 Question 3\n",
    "word=input(\"Enter Word to Reverse: \")\n",
    "print(\"Input \"+word)\n",
    "print(\"Output \"+word[::-1])\n"
   ]
  },
  {
   "cell_type": "code",
   "execution_count": 27,
   "metadata": {},
   "outputs": [
    {
     "name": "stdout",
     "output_type": "stream",
     "text": [
      "WE, THE PEOPLE OF INDIA,\n",
      "\r",
      "     having solemnly resolved to constitute India into a SOVEREIGN, !\n",
      "\r",
      "            SOCIALIST, SECULAR, DEMOCRATIC REPUBLIC\n",
      "\r",
      "             and to secure to all its citizens\n"
     ]
    }
   ],
   "source": [
    "#Task 3 Question 4\n",
    "print(\"WE, THE PEOPLE OF INDIA,\")\n",
    "print(\"\\r     having solemnly resolved to constitute India into a SOVEREIGN, !\")\n",
    "print(\"\\r            SOCIALIST, SECULAR, DEMOCRATIC REPUBLIC\")\n",
    "print(\"\\r             and to secure to all its citizens\")"
   ]
  },
  {
   "cell_type": "code",
   "execution_count": null,
   "metadata": {},
   "outputs": [],
   "source": []
  }
 ],
 "metadata": {
  "kernelspec": {
   "display_name": "Python 3",
   "language": "python",
   "name": "python3"
  },
  "language_info": {
   "codemirror_mode": {
    "name": "ipython",
    "version": 3
   },
   "file_extension": ".py",
   "mimetype": "text/x-python",
   "name": "python",
   "nbconvert_exporter": "python",
   "pygments_lexer": "ipython3",
   "version": "3.5.5"
  }
 },
 "nbformat": 4,
 "nbformat_minor": 2
}
