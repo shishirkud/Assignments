{
 "cells": [
  {
   "cell_type": "code",
   "execution_count": 1,
   "metadata": {},
   "outputs": [
    {
     "name": "stdout",
     "output_type": "stream",
     "text": [
      "Result 120\n"
     ]
    }
   ],
   "source": [
    "# Task 1\n",
    "# 1.1\n",
    "def fact(output,num):\n",
    "  return(output*num) \n",
    "\n",
    "def myreduce(func,sequence):\n",
    "  result=sequence[0]\n",
    "  for item in sequence[1:]:\n",
    "    result=func(result,item)\n",
    "\n",
    "  print(\"Result \"+str(result))\n",
    "\n",
    "mylist=[1,2,3,4,5]\n",
    "myreduce(fact,mylist)"
   ]
  },
  {
   "cell_type": "code",
   "execution_count": 2,
   "metadata": {},
   "outputs": [
    {
     "name": "stdout",
     "output_type": "stream",
     "text": [
      "Custom myfilter output\n",
      "2 4 6 8 10 12 14 16 18 \n",
      "\n",
      "Builtin filter output\n",
      "2 4 6 8 10 12 14 16 18 "
     ]
    }
   ],
   "source": [
    "# Task 2\n",
    "# 1.2\n",
    "def checkEven(number):\n",
    "  if(number%2==0):\n",
    "    return True\n",
    "  else:\n",
    "    return False  \n",
    "\n",
    "def myfilter(checkEven,sequence):\n",
    "  result=[]\n",
    "  for item in sequence:\n",
    "    if checkEven(item):\n",
    "      result.append(item)\n",
    "\n",
    "  return result\n",
    "\n",
    "mylist=range(1,20)\n",
    "my_evenlist=myfilter(checkEven,mylist)\n",
    "\n",
    "print(\"Custom myfilter output\")\n",
    "for i in my_evenlist:\n",
    "  print(i,end=\" \")\n",
    "\n",
    "print(\"\\n\")\n",
    "\n",
    "builtin_evenlist=filter(checkEven,mylist)\n",
    "\n",
    "print(\"Builtin filter output\")\n",
    "for i in builtin_evenlist:\n",
    "  print(i,end=\" \")\n"
   ]
  },
  {
   "cell_type": "code",
   "execution_count": 3,
   "metadata": {},
   "outputs": [
    {
     "name": "stdout",
     "output_type": "stream",
     "text": [
      "['A', 'C', 'A', 'D', 'G', 'I', 'L', 'D']\n"
     ]
    }
   ],
   "source": [
    "# Task 1\n",
    "# 2\n",
    "# a\n",
    "strtolistcomp=[wordtoletter for wordtoletter in 'ACADGILD']\n",
    "print(strtolistcomp)"
   ]
  },
  {
   "cell_type": "code",
   "execution_count": 9,
   "metadata": {},
   "outputs": [
    {
     "name": "stdout",
     "output_type": "stream",
     "text": [
      "['x', 'xx', 'xxx', 'xxxx', 'y', 'yy', 'yyy', 'yyyy', 'z', 'zz', 'zzz', 'zzzz']\n"
     ]
    }
   ],
   "source": [
    "# b\n",
    "xyz=['x','y','z']\n",
    "xyz_list = [ item*num for item in xyz for num in range(1,5)  ]\n",
    "print(str(xyz_list))"
   ]
  },
  {
   "cell_type": "code",
   "execution_count": 11,
   "metadata": {},
   "outputs": [
    {
     "name": "stdout",
     "output_type": "stream",
     "text": [
      "['x', 'y', 'z', 'xx', 'yy', 'zz', 'xxx', 'yyy', 'zzz', 'xxxx', 'yyyy', 'zzzz']\n"
     ]
    }
   ],
   "source": [
    "# c\n",
    "xyz = ['x','y','z']\n",
    "xyz_list = [ item*num for num in range(1,5) for item in xyz  ]\n",
    "print(str(xyz_list))"
   ]
  },
  {
   "cell_type": "code",
   "execution_count": 13,
   "metadata": {},
   "outputs": [
    {
     "name": "stdout",
     "output_type": "stream",
     "text": [
      "[[2], [3], [4], [3], [4], [5], [4], [5], [6]]\n"
     ]
    }
   ],
   "source": [
    "# d\n",
    "integer_list = [2,3,4]\n",
    "result = [ [item+num] for item in integer_list for num in range(0,3)]\n",
    "print(str(result))"
   ]
  },
  {
   "cell_type": "code",
   "execution_count": 14,
   "metadata": {},
   "outputs": [
    {
     "name": "stdout",
     "output_type": "stream",
     "text": [
      "[[2, 3, 4, 5], [3, 4, 5, 6], [4, 5, 6, 7], [5, 6, 7, 8]]\n"
     ]
    }
   ],
   "source": [
    "# e\n",
    "integer_list = [2,3,4,5]\n",
    "result = [ [item+num for item in integer_list] for num in range(0,4)  ]\n",
    "print(str(result))"
   ]
  },
  {
   "cell_type": "code",
   "execution_count": 15,
   "metadata": {},
   "outputs": [
    {
     "name": "stdout",
     "output_type": "stream",
     "text": [
      "[(1, 1), (2, 1), (3, 1), (1, 2), (2, 2), (3, 2), (1, 3), (2, 3), (3, 3)]\n"
     ]
    }
   ],
   "source": [
    "# f\n",
    "integer_list=[1,2,3]\n",
    "result = [ (b,a) for a in integer_list for b in integer_list]\n",
    "print(str(result))"
   ]
  },
  {
   "cell_type": "code",
   "execution_count": 22,
   "metadata": {},
   "outputs": [
    {
     "name": "stdout",
     "output_type": "stream",
     "text": [
      "Longest Word : Learning\n"
     ]
    }
   ],
   "source": [
    "# 3\n",
    "def longestWord(word_list):\n",
    "    longest_word = ''\n",
    "    for word in word_list:\n",
    "        if len(word) > len(longest_word):\n",
    "            longest_word = word\n",
    "    return longest_word        \n",
    "    \n",
    "wordList=[\"Machine\",\"Learning\",\"is\",\"Fun\",\"and\",\"Exciting\"]\n",
    "print(\"Longest Word : \"+longestWord(wordList))"
   ]
  },
  {
   "cell_type": "code",
   "execution_count": 25,
   "metadata": {},
   "outputs": [
    {
     "name": "stdout",
     "output_type": "stream",
     "text": [
      "Enter lenght of side1 3\n",
      "Enter lenght of side2 4\n",
      "Enter lenght of side3 5\n",
      "Area of Triangle is 6.00 \n"
     ]
    }
   ],
   "source": [
    "# Task 2\n",
    "# 1.1\n",
    "class Triangle:\n",
    "  def __init__(self):\n",
    "    self.side1=float(input(\"Enter lenght of side1 \"))\n",
    "    self.side2=float(input(\"Enter lenght of side2 \"))\n",
    "    self.side3=float(input(\"Enter lenght of side3 \"))  \n",
    "    \n",
    "class Area(Triangle):\n",
    "  #def __init__(self,*args,**kwargs):\n",
    "  #  super(Triangle,self).__init__(*args,**kwargs)\n",
    " \n",
    "  def calculateArea(self):\n",
    "    s=(self.side1+self.side2+self.side3)/2\n",
    "    area=(s*(s-self.side1)*(s-self.side2)*(s-self.side3)) ** 0.5\n",
    "    return area\n",
    "\n",
    "TriangleArea=Area()\n",
    "print(\"Area of Triangle is %.2f \" % (TriangleArea.calculateArea()))"
   ]
  },
  {
   "cell_type": "code",
   "execution_count": 26,
   "metadata": {},
   "outputs": [
    {
     "name": "stdout",
     "output_type": "stream",
     "text": [
      "Words greater than length 5 are : Machine\n",
      "Words greater than length 5 are : Learning\n",
      "Words greater than length 5 are : exciting\n"
     ]
    }
   ],
   "source": [
    "# 1.2\n",
    "def filter_long_words(wordList,n):\n",
    "  return filter(lambda word:len(word)>n,wordList)\n",
    "\n",
    "wordList=[\"Machine\",\"Learning\",\"is\",\"fun\",\"and\",\"exciting\"]\n",
    "filtered_words=filter_long_words(wordList,5)\n",
    "for words in filtered_words:\n",
    "  print(\"Words greater than length 5 are : \"+words)"
   ]
  },
  {
   "cell_type": "code",
   "execution_count": 27,
   "metadata": {},
   "outputs": [
    {
     "name": "stdout",
     "output_type": "stream",
     "text": [
      "[7, 8, 2, 3, 3, 8]\n"
     ]
    }
   ],
   "source": [
    "# 2.1\n",
    "def words_to_integer(wordList):\n",
    "  integerList=[]\n",
    "  for word in wordList:\n",
    "    integerList.append(len(word))\n",
    "  \n",
    "  return integerList\n",
    "\n",
    "wordList=[\"Machine\",\"Learning\",\"is\",\"fun\",\"and\",\"exciting\"]\n",
    "integerList=words_to_integer(wordList)\n",
    "integertostring=' '.join([str(integerList)])\n",
    "print(integertostring)\n"
   ]
  },
  {
   "cell_type": "code",
   "execution_count": 28,
   "metadata": {
    "scrolled": true
   },
   "outputs": [
    {
     "name": "stdout",
     "output_type": "stream",
     "text": [
      "The filtered vowels are:\n",
      "a\n",
      "e\n",
      "i\n",
      "o\n"
     ]
    }
   ],
   "source": [
    "# 2.2\n",
    "alphabets = ['a', 'c', 'f', 'e', 'i', 'k', 'o', 'm', 'z']\n",
    "\n",
    "# function that filters vowels\n",
    "def filterVowels(alphabet):\n",
    "    vowels = ['a', 'e', 'i', 'o', 'u']\n",
    "\n",
    "    if(alphabet in vowels):\n",
    "        return True\n",
    "    else:\n",
    "        return False\n",
    "\n",
    "filteredVowels = filter(filterVowels, alphabets)\n",
    "\n",
    "print('The filtered vowels are:')\n",
    "for vowel in filteredVowels:\n",
    "    print(vowel)"
   ]
  },
  {
   "cell_type": "code",
   "execution_count": null,
   "metadata": {},
   "outputs": [],
   "source": []
  }
 ],
 "metadata": {
  "kernelspec": {
   "display_name": "Python 3",
   "language": "python",
   "name": "python3"
  },
  "language_info": {
   "codemirror_mode": {
    "name": "ipython",
    "version": 3
   },
   "file_extension": ".py",
   "mimetype": "text/x-python",
   "name": "python",
   "nbconvert_exporter": "python",
   "pygments_lexer": "ipython3",
   "version": "3.5.5"
  }
 },
 "nbformat": 4,
 "nbformat_minor": 2
}
